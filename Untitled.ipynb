{
 "cells": [
  {
   "cell_type": "code",
   "execution_count": 1,
   "id": "294a4da8-1b3c-4046-be31-eae640fd402d",
   "metadata": {},
   "outputs": [
    {
     "data": {
      "text/plain": [
       "'gradcam.py'"
      ]
     },
     "execution_count": 1,
     "metadata": {},
     "output_type": "execute_result"
    }
   ],
   "source": [
    "# Convert the uploaded Jupyter notebook to a Python script.\n",
    "import nbformat\n",
    "from nbconvert import PythonExporter\n",
    "\n",
    "# Path for the uploaded file and desired output path\n",
    "input_path = 'gradcam.ipynb'\n",
    "output_path = 'gradcam.py'\n",
    "\n",
    "# Read the notebook file\n",
    "with open(input_path, 'r', encoding='utf-8') as f:\n",
    "    notebook_content = nbformat.read(f, as_version=4)\n",
    "\n",
    "# Convert to Python script using nbconvert\n",
    "python_exporter = PythonExporter()\n",
    "python_code, _ = python_exporter.from_notebook_node(notebook_content)\n",
    "\n",
    "# Write to Python script file\n",
    "with open(output_path, 'w', encoding='utf-8') as f:\n",
    "    f.write(python_code)\n",
    "\n",
    "output_path\n"
   ]
  },
  {
   "cell_type": "code",
   "execution_count": null,
   "id": "2d8723ab-e49a-4c07-8be8-bae8da3665cd",
   "metadata": {},
   "outputs": [],
   "source": []
  }
 ],
 "metadata": {
  "kernelspec": {
   "display_name": "Python 3 (ipykernel)",
   "language": "python",
   "name": "python3"
  },
  "language_info": {
   "codemirror_mode": {
    "name": "ipython",
    "version": 3
   },
   "file_extension": ".py",
   "mimetype": "text/x-python",
   "name": "python",
   "nbconvert_exporter": "python",
   "pygments_lexer": "ipython3",
   "version": "3.12.1"
  }
 },
 "nbformat": 4,
 "nbformat_minor": 5
}
